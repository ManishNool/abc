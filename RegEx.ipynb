{
 "cells": [
  {
   "cell_type": "markdown",
   "id": "5f99c4e8",
   "metadata": {},
   "source": [
    "## Regular Expressions(Reg Ex)\n",
    "RegEx is a built-in package of python to use some special characters, digits, alphabets to create search patterns\n",
    "\n",
    "import re\n",
    "\n",
    "RegEx functions - search, findall, split, sub\n",
    "\n",
    "Special Sequences\n",
    "\n",
    "Metacharacters\n",
    "\n",
    "Match Object - span string and group"
   ]
  },
  {
   "cell_type": "code",
   "execution_count": 29,
   "id": "4623e43b",
   "metadata": {},
   "outputs": [],
   "source": [
    "import re\n",
    "import pandas as pd"
   ]
  },
  {
   "cell_type": "code",
   "execution_count": 81,
   "id": "50200e0f",
   "metadata": {},
   "outputs": [
    {
     "data": {
      "text/html": [
       "<div>\n",
       "<style scoped>\n",
       "    .dataframe tbody tr th:only-of-type {\n",
       "        vertical-align: middle;\n",
       "    }\n",
       "\n",
       "    .dataframe tbody tr th {\n",
       "        vertical-align: top;\n",
       "    }\n",
       "\n",
       "    .dataframe thead th {\n",
       "        text-align: right;\n",
       "    }\n",
       "</style>\n",
       "<table border=\"1\" class=\"dataframe\">\n",
       "  <thead>\n",
       "    <tr style=\"text-align: right;\">\n",
       "      <th></th>\n",
       "      <th>Description</th>\n",
       "      <th>Value</th>\n",
       "    </tr>\n",
       "    <tr>\n",
       "      <th>ID</th>\n",
       "      <th></th>\n",
       "      <th></th>\n",
       "    </tr>\n",
       "  </thead>\n",
       "  <tbody>\n",
       "    <tr>\n",
       "      <th>0</th>\n",
       "      <td>Balke, Jeff (March 2008). \"For Music Fans: Wik...</td>\n",
       "      <td>2000</td>\n",
       "    </tr>\n",
       "    <tr>\n",
       "      <th>1</th>\n",
       "      <td>Borland, John (August 14, 2007). \"See Who's Ed...</td>\n",
       "      <td>2000</td>\n",
       "    </tr>\n",
       "    <tr>\n",
       "      <th>2</th>\n",
       "      <td>Dee, Jonathan (July 1, 2007). \"All the News Th...</td>\n",
       "      <td>3000</td>\n",
       "    </tr>\n",
       "    <tr>\n",
       "      <th>3</th>\n",
       "      <td>Giles, Jim (September 20, 2007). \"Wikipedia 2....</td>\n",
       "      <td>40</td>\n",
       "    </tr>\n",
       "    <tr>\n",
       "      <th>4</th>\n",
       "      <td>Miliard, Mike (December 2, 2007). \"Wikipedia R...</td>\n",
       "      <td>50400</td>\n",
       "    </tr>\n",
       "  </tbody>\n",
       "</table>\n",
       "</div>"
      ],
      "text/plain": [
       "                                          Description  Value\n",
       "ID                                                          \n",
       "0   Balke, Jeff (March 2008). \"For Music Fans: Wik...   2000\n",
       "1   Borland, John (August 14, 2007). \"See Who's Ed...   2000\n",
       "2   Dee, Jonathan (July 1, 2007). \"All the News Th...   3000\n",
       "3   Giles, Jim (September 20, 2007). \"Wikipedia 2....     40\n",
       "4   Miliard, Mike (December 2, 2007). \"Wikipedia R...  50400"
      ]
     },
     "execution_count": 81,
     "metadata": {},
     "output_type": "execute_result"
    }
   ],
   "source": [
    "df = pd.read_excel('regex.xlsx').set_index('ID')\n",
    "df.head()"
   ]
  },
  {
   "cell_type": "code",
   "execution_count": 82,
   "id": "e91a07f1",
   "metadata": {},
   "outputs": [
    {
     "data": {
      "text/html": [
       "<div>\n",
       "<style scoped>\n",
       "    .dataframe tbody tr th:only-of-type {\n",
       "        vertical-align: middle;\n",
       "    }\n",
       "\n",
       "    .dataframe tbody tr th {\n",
       "        vertical-align: top;\n",
       "    }\n",
       "\n",
       "    .dataframe thead th {\n",
       "        text-align: right;\n",
       "    }\n",
       "</style>\n",
       "<table border=\"1\" class=\"dataframe\">\n",
       "  <thead>\n",
       "    <tr style=\"text-align: right;\">\n",
       "      <th></th>\n",
       "      <th>Description</th>\n",
       "      <th>Value</th>\n",
       "      <th>Date</th>\n",
       "    </tr>\n",
       "    <tr>\n",
       "      <th>ID</th>\n",
       "      <th></th>\n",
       "      <th></th>\n",
       "      <th></th>\n",
       "    </tr>\n",
       "  </thead>\n",
       "  <tbody>\n",
       "    <tr>\n",
       "      <th>0</th>\n",
       "      <td>Balke, Jeff (March 2008). \"For Music Fans: Wik...</td>\n",
       "      <td>2000</td>\n",
       "      <td>None</td>\n",
       "    </tr>\n",
       "    <tr>\n",
       "      <th>1</th>\n",
       "      <td>Borland, John (August 14, 2007). \"See Who's Ed...</td>\n",
       "      <td>2000</td>\n",
       "      <td>None</td>\n",
       "    </tr>\n",
       "    <tr>\n",
       "      <th>2</th>\n",
       "      <td>Dee, Jonathan (July 1, 2007). \"All the News Th...</td>\n",
       "      <td>3000</td>\n",
       "      <td>None</td>\n",
       "    </tr>\n",
       "    <tr>\n",
       "      <th>3</th>\n",
       "      <td>Giles, Jim (September 20, 2007). \"Wikipedia 2....</td>\n",
       "      <td>40</td>\n",
       "      <td>None</td>\n",
       "    </tr>\n",
       "    <tr>\n",
       "      <th>4</th>\n",
       "      <td>Miliard, Mike (December 2, 2007). \"Wikipedia R...</td>\n",
       "      <td>50400</td>\n",
       "      <td>None</td>\n",
       "    </tr>\n",
       "    <tr>\n",
       "      <th>5</th>\n",
       "      <td>Poe, Marshall (September 1, 2006). \"The Hive\"....</td>\n",
       "      <td>300</td>\n",
       "      <td>None</td>\n",
       "    </tr>\n",
       "    <tr>\n",
       "      <th>6</th>\n",
       "      <td>Rosenwald, Michael S. (October 23, 2009). \"Gat...</td>\n",
       "      <td>220</td>\n",
       "      <td>None</td>\n",
       "    </tr>\n",
       "    <tr>\n",
       "      <th>7</th>\n",
       "      <td>Runciman, David (May 28, 2009). \"Like Boiling ...</td>\n",
       "      <td>2220</td>\n",
       "      <td>None</td>\n",
       "    </tr>\n",
       "  </tbody>\n",
       "</table>\n",
       "</div>"
      ],
      "text/plain": [
       "                                          Description  Value  Date\n",
       "ID                                                                \n",
       "0   Balke, Jeff (March 2008). \"For Music Fans: Wik...   2000  None\n",
       "1   Borland, John (August 14, 2007). \"See Who's Ed...   2000  None\n",
       "2   Dee, Jonathan (July 1, 2007). \"All the News Th...   3000  None\n",
       "3   Giles, Jim (September 20, 2007). \"Wikipedia 2....     40  None\n",
       "4   Miliard, Mike (December 2, 2007). \"Wikipedia R...  50400  None\n",
       "5   Poe, Marshall (September 1, 2006). \"The Hive\"....    300  None\n",
       "6   Rosenwald, Michael S. (October 23, 2009). \"Gat...    220  None\n",
       "7   Runciman, David (May 28, 2009). \"Like Boiling ...   2220  None"
      ]
     },
     "execution_count": 82,
     "metadata": {},
     "output_type": "execute_result"
    }
   ],
   "source": [
    "#create new column\n",
    "\n",
    "df['Date'] = None\n",
    "df"
   ]
  },
  {
   "cell_type": "code",
   "execution_count": 67,
   "id": "97b5ebc6",
   "metadata": {},
   "outputs": [
    {
     "name": "stdout",
     "output_type": "stream",
     "text": [
      "3 1\n"
     ]
    }
   ],
   "source": [
    "#set_index for columns\n",
    "\n",
    "index_description = df.columns.get_loc('Description')\n",
    "index_date = df.columns.get_loc('Date')\n",
    "\n",
    "print(index_date, index_description)"
   ]
  },
  {
   "cell_type": "code",
   "execution_count": 79,
   "id": "8d640dfa",
   "metadata": {},
   "outputs": [
    {
     "data": {
      "text/plain": [
       "'October 10, 2023'"
      ]
     },
     "execution_count": 79,
     "metadata": {},
     "output_type": "execute_result"
    }
   ],
   "source": [
    "#define pattern of date \n",
    "a = \"October 10, 2023 kjchxlcndackjdahkcdahkcd November 11, 2022\"\n",
    "date_pattern = re.search(\"\\w+\\s\\d{1,2},\\s\\d{4}\", a).group()\n",
    "                        \n",
    "date_pattern"
   ]
  },
  {
   "cell_type": "code",
   "execution_count": 99,
   "id": "867ef005",
   "metadata": {},
   "outputs": [
    {
     "data": {
      "text/plain": [
       "'The rain in Spain'"
      ]
     },
     "execution_count": 99,
     "metadata": {},
     "output_type": "execute_result"
    }
   ],
   "source": [
    "txt = \"The rain in Spain\"\n",
    "x = re.search(\"^The.{9}Spain$\", txt).group()\n",
    "x"
   ]
  },
  {
   "cell_type": "code",
   "execution_count": null,
   "id": "8008a2e3",
   "metadata": {},
   "outputs": [],
   "source": []
  }
 ],
 "metadata": {
  "kernelspec": {
   "display_name": "Python 3 (ipykernel)",
   "language": "python",
   "name": "python3"
  },
  "language_info": {
   "codemirror_mode": {
    "name": "ipython",
    "version": 3
   },
   "file_extension": ".py",
   "mimetype": "text/x-python",
   "name": "python",
   "nbconvert_exporter": "python",
   "pygments_lexer": "ipython3",
   "version": "3.9.13"
  }
 },
 "nbformat": 4,
 "nbformat_minor": 5
}
